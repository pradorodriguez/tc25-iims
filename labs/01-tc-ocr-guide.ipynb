{
 "cells": [
  {
   "cell_type": "markdown",
   "metadata": {},
   "source": [
    "# Azure AI Vision Guide\n",
    "\n",
    "[Quickstart: Azure AI Vision v3.2 GA Read](https://learn.microsoft.com/en-us/azure/ai-services/computer-vision/quickstarts-sdk/client-library?tabs=windows%2Cvisual-studio&pivots=programming-language-python)"
   ]
  },
  {
   "cell_type": "markdown",
   "metadata": {},
   "source": [
    "## Requirements\n",
    "\n",
    "* [Azure Computer Vision](https://portal.azure.com/#create/Microsoft.CognitiveServicesComputerVision)\n",
    "* Python environment, version 3.10 or higher\n",
    "* Visual Studio Code\n",
    "  * Extensions: Python and Jupyper"
   ]
  },
  {
   "cell_type": "code",
   "execution_count": null,
   "metadata": {},
   "outputs": [],
   "source": [
    "# Python packages\n",
    "# ! pip install -r requirements.txt"
   ]
  },
  {
   "cell_type": "code",
   "execution_count": 1,
   "metadata": {},
   "outputs": [],
   "source": [
    "# Libraries\n",
    "import os\n",
    "from dotenv import load_dotenv\n",
    "#import sys\n",
    "import time\n",
    "from PIL import Image\n",
    "from array import array\n",
    "\n",
    "# OpenAI Python libraries\n",
    "from azure.cognitiveservices.vision.computervision import ComputerVisionClient\n",
    "from azure.cognitiveservices.vision.computervision.models import OperationStatusCodes\n",
    "#from azure.cognitiveservices.vision.computervision.models import VisualFeatureTypes\n",
    "from msrest.authentication import CognitiveServicesCredentials"
   ]
  },
  {
   "cell_type": "code",
   "execution_count": 2,
   "metadata": {},
   "outputs": [],
   "source": [
    "#load variables\n",
    "load_dotenv()\n",
    "\n",
    "# Azure Python libraries\n",
    "endpoint = os.environ[\"AZURE_AI_MULTISERVICE_ENDPOINT\"]\n",
    "subscription_key = os.environ[\"AZURE_AI_MULTISERVICE_KEY\"]"
   ]
  },
  {
   "cell_type": "markdown",
   "metadata": {},
   "source": [
    "## Read printed and handwritten text"
   ]
  },
  {
   "cell_type": "code",
   "execution_count": 3,
   "metadata": {},
   "outputs": [],
   "source": [
    "# Authenticate to Azure Computer Vision\n",
    "# Python ComputerVisionClient Class: https://learn.microsoft.com/en-us/python/api/azure-cognitiveservices-vision-computervision/azure.cognitiveservices.vision.computervision.computervisionclient?view=azure-python-previous\n",
    "computervision_client = ComputerVisionClient(\n",
    "    endpoint, \n",
    "    CognitiveServicesCredentials(subscription_key)\n",
    ")"
   ]
  },
  {
   "cell_type": "markdown",
   "metadata": {},
   "source": [
    "> [!IMPORTANT]  \n",
    "> **'get_read_result'** method: This interface is used for getting OCR results of Read operation. The URL to this interface should be retrieved from 'Operation-Location' field returned from Read interface."
   ]
  },
  {
   "cell_type": "code",
   "execution_count": 9,
   "metadata": {},
   "outputs": [
    {
     "name": "stdout",
     "output_type": "stream",
     "text": [
      "9:35 AM\n",
      "[130.0, 129.0, 215.0, 130.0, 215.0, 149.0, 130.0, 148.0]\n",
      "Conference room 154584354\n",
      "[131.0, 153.0, 224.0, 153.0, 224.0, 161.0, 131.0, 160.0]\n",
      "Town Hall\n",
      "[545.0, 179.0, 589.0, 180.0, 589.0, 190.0, 545.0, 189.0]\n",
      "9:00 AM - 10:00 AM\n",
      "[545.0, 192.0, 596.0, 193.0, 596.0, 200.0, 545.0, 199.0]\n",
      "Aston Buien\n",
      "[545.0, 201.0, 581.0, 202.0, 581.0, 208.0, 545.0, 208.0]\n",
      "Daily SCRUM\n",
      "[537.0, 258.0, 572.0, 258.0, 572.0, 265.0, 537.0, 265.0]\n",
      "10:00 AM-11:00 AM\n",
      "[537.0, 266.0, 590.0, 266.0, 590.0, 272.0, 537.0, 272.0]\n",
      "Charlathe de Crum\n",
      "[538.0, 274.0, 584.0, 273.0, 584.0, 279.0, 538.0, 279.0]\n",
      "Quarterly NI Hands\n",
      "[538.0, 296.0, 589.0, 296.0, 589.0, 302.0, 538.0, 302.0]\n",
      "11:00 AM-12:00 PM\n",
      "[537.0, 303.0, 590.0, 303.0, 590.0, 309.0, 537.0, 309.0]\n",
      "Bebek Shaman\n",
      "[538.0, 310.0, 577.0, 310.0, 577.0, 317.0, 538.0, 316.0]\n",
      "Thuare\n",
      "[505.0, 316.0, 518.0, 316.0, 517.0, 320.0, 505.0, 320.0]\n",
      "Weekly stand up\n",
      "[538.0, 333.0, 582.0, 332.0, 582.0, 339.0, 538.0, 339.0]\n",
      "12:00 PM-1:00 PM\n",
      "[538.0, 339.0, 586.0, 339.0, 586.0, 345.0, 538.0, 345.0]\n",
      "Delle Marckre\n",
      "[537.0, 347.0, 584.0, 346.0, 584.0, 353.0, 537.0, 353.0]\n",
      "Product review\n",
      "[538.0, 370.0, 577.0, 370.0, 577.0, 376.0, 538.0, 375.0]\n",
      "\n"
     ]
    }
   ],
   "source": [
    "# Get an image with text\n",
    "read_image_url = \"https://learn.microsoft.com/azure/ai-services/computer-vision/media/quickstarts/presentation.png\"\n",
    "\n",
    "# Call API with URL and raw response (allows you to get the operation location)\n",
    "# Python read method: https://learn.microsoft.com/en-us/python/api/azure-cognitiveservices-vision-computervision/azure.cognitiveservices.vision.computervision.computervisionclient?view=azure-python-previous#azure-cognitiveservices-vision-computervision-computervisionclient-read\n",
    "read_response = computervision_client.read(read_image_url,  raw=True)\n",
    "\n",
    "# Get the operation location (URL with an ID at the end) from the response\n",
    "read_operation_location = read_response.headers[\"Operation-Location\"]\n",
    "\n",
    "# Grab the ID from the URL\n",
    "operation_id = read_operation_location.split(\"/\")[-1]\n",
    "\n",
    "# Call the \"GET\" API and wait for it to retrieve the results \n",
    "# Python get_read_result method: https://learn.microsoft.com/en-us/python/api/azure-cognitiveservices-vision-computervision/azure.cognitiveservices.vision.computervision.computervisionclient?view=azure-python-previous#azure-cognitiveservices-vision-computervision-computervisionclient-get-read-result\n",
    "while True:\n",
    "    read_result = computervision_client.get_read_result(operation_id)\n",
    "    if read_result.status not in ['notStarted', 'running']:\n",
    "        break\n",
    "    time.sleep(1)\n",
    "\n",
    "# get_read_result method returns ClientRawResponse since raw=true\n",
    "\n",
    "# Print the detected text, line by line\n",
    "if read_result.status == OperationStatusCodes.succeeded:\n",
    "    for text_result in read_result.analyze_result.read_results:\n",
    "        for line in text_result.lines:\n",
    "            print(line.text)\n",
    "            print(line.bounding_box)\n",
    "print()"
   ]
  },
  {
   "cell_type": "markdown",
   "metadata": {},
   "source": [
    "### Change the Computer Vision Model Name by specifying the 'model' version"
   ]
  },
  {
   "cell_type": "code",
   "execution_count": 5,
   "metadata": {},
   "outputs": [
    {
     "name": "stdout",
     "output_type": "stream",
     "text": [
      "9:35 AM\n",
      "[130.0, 129.0, 215.0, 130.0, 215.0, 149.0, 130.0, 148.0]\n",
      "Conference room 154584354\n",
      "[131.0, 153.0, 224.0, 153.0, 224.0, 161.0, 131.0, 160.0]\n",
      "Town Hall\n",
      "[545.0, 179.0, 589.0, 180.0, 589.0, 190.0, 545.0, 189.0]\n",
      "9:00 AM - 10:00 AM\n",
      "[545.0, 192.0, 596.0, 193.0, 596.0, 200.0, 545.0, 199.0]\n",
      "Aston Buien\n",
      "[545.0, 201.0, 581.0, 202.0, 581.0, 208.0, 545.0, 208.0]\n",
      "Daily SCRUM\n",
      "[537.0, 258.0, 572.0, 258.0, 572.0, 265.0, 537.0, 265.0]\n",
      "10:00 AM-11:00 AM\n",
      "[537.0, 266.0, 590.0, 266.0, 590.0, 272.0, 537.0, 272.0]\n",
      "Charlathe de Crum\n",
      "[538.0, 274.0, 584.0, 273.0, 584.0, 279.0, 538.0, 279.0]\n",
      "Quarterly NI Hands\n",
      "[538.0, 296.0, 589.0, 296.0, 589.0, 302.0, 538.0, 302.0]\n",
      "11:00 AM-12:00 PM\n",
      "[537.0, 303.0, 590.0, 303.0, 590.0, 309.0, 537.0, 309.0]\n",
      "Bebek Shaman\n",
      "[538.0, 310.0, 577.0, 310.0, 577.0, 317.0, 538.0, 316.0]\n",
      "Thuare\n",
      "[505.0, 316.0, 518.0, 316.0, 517.0, 320.0, 505.0, 320.0]\n",
      "Weekly stand up\n",
      "[538.0, 333.0, 582.0, 332.0, 582.0, 339.0, 538.0, 339.0]\n",
      "12:00 PM-1:00 PM\n",
      "[538.0, 339.0, 586.0, 339.0, 586.0, 345.0, 538.0, 345.0]\n",
      "Delle Marckre\n",
      "[537.0, 347.0, 584.0, 346.0, 584.0, 353.0, 537.0, 353.0]\n",
      "Product review\n",
      "[538.0, 370.0, 577.0, 370.0, 577.0, 376.0, 538.0, 375.0]\n",
      "\n"
     ]
    }
   ],
   "source": [
    "# Call API with URL and raw response (allows you to get the operation location)\n",
    "read_response2 = computervision_client.read(read_image_url,  raw=True, model_version=\"2022-04-30\")\n",
    "\n",
    "# Get the operation location (URL with an ID at the end) from the response\n",
    "read_operation_location2 = read_response2.headers[\"Operation-Location\"]\n",
    "\n",
    "# Grab the ID from the URL\n",
    "operation_id2 = read_operation_location2.split(\"/\")[-1]\n",
    "\n",
    "# Call the \"GET\" API and wait for it to retrieve the results \n",
    "# Python get_read_result method: https://learn.microsoft.com/en-us/python/api/azure-cognitiveservices-vision-computervision/azure.cognitiveservices.vision.computervision.computervisionclient?view=azure-python-previous#azure-cognitiveservices-vision-computervision-computervisionclient-get-read-result\n",
    "while True:\n",
    "    read_result2 = computervision_client.get_read_result(operation_id2)\n",
    "    # Get read results: https://learn.microsoft.com/en-us/azure/ai-services/computer-vision/how-to/call-read-api#get-results-from-the-service\n",
    "    if read_result2.status not in ['notStarted', 'running']:\n",
    "        break\n",
    "    time.sleep(1)\n",
    "\n",
    "# print(read_result2)\n",
    "\n",
    "# get_read_result method returns ClientRawResponse since raw=true\n",
    "\n",
    "# Print the detected text, line by line\n",
    "if read_result2.status == OperationStatusCodes.succeeded:\n",
    "    for text_result2 in read_result2.analyze_result.read_results:\n",
    "        for line in text_result2.lines:\n",
    "            print(line.text)\n",
    "            print(line.bounding_box)\n",
    "print()"
   ]
  }
 ],
 "metadata": {
  "kernelspec": {
   "display_name": ".venv",
   "language": "python",
   "name": "python3"
  },
  "language_info": {
   "codemirror_mode": {
    "name": "ipython",
    "version": 3
   },
   "file_extension": ".py",
   "mimetype": "text/x-python",
   "name": "python",
   "nbconvert_exporter": "python",
   "pygments_lexer": "ipython3",
   "version": "3.10.11"
  }
 },
 "nbformat": 4,
 "nbformat_minor": 2
}
