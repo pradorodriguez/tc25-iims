{
 "cells": [
  {
   "cell_type": "markdown",
   "metadata": {},
   "source": [
    "# Azure AI Vision Guide"
   ]
  },
  {
   "cell_type": "markdown",
   "metadata": {},
   "source": [
    "## Requirements\n",
    "\n",
    "* [Azure Computer Vision](https://portal.azure.com/#create/Microsoft.CognitiveServicesComputerVision)\n",
    "* Python environment, version 3.10 or higher\n",
    "* GitHub CodeSpaces\n",
    "* Visual Studio Code\n",
    "  * Extensions: Python and Jupyper"
   ]
  },
  {
   "cell_type": "code",
   "execution_count": 7,
   "metadata": {},
   "outputs": [],
   "source": [
    "# Python packages\n",
    "# ! pip install -r requirements.txt"
   ]
  },
  {
   "cell_type": "code",
   "execution_count": 1,
   "metadata": {},
   "outputs": [],
   "source": [
    "# Libraries\n",
    "import os\n",
    "from dotenv import load_dotenv\n",
    "#import sys\n",
    "import time\n",
    "from PIL import Image\n",
    "from array import array\n",
    "\n",
    "# OpenAI Python libraries\n",
    "from azure.cognitiveservices.vision.computervision import ComputerVisionClient\n",
    "from azure.cognitiveservices.vision.computervision.models import OperationStatusCodes\n",
    "#from azure.cognitiveservices.vision.computervision.models import VisualFeatureTypes\n",
    "from msrest.authentication import CognitiveServicesCredentials"
   ]
  },
  {
   "cell_type": "code",
   "execution_count": 2,
   "metadata": {},
   "outputs": [],
   "source": [
    "#load variables\n",
    "load_dotenv()\n",
    "\n",
    "# Azure Python libraries\n",
    "endpoint = os.environ[\"AZURE_AI_MULTISERVICE_ENDPOINT\"]\n",
    "subscription_key = os.environ[\"AZURE_AI_MULTISERVICE_KEY\"]"
   ]
  },
  {
   "cell_type": "markdown",
   "metadata": {},
   "source": [
    "## Read printed and handwritten text"
   ]
  },
  {
   "cell_type": "code",
   "execution_count": 3,
   "metadata": {},
   "outputs": [],
   "source": [
    "# Authenticate to Azure Computer Vision\n",
    "# Python ComputerVisionClient Class: https://learn.microsoft.com/en-us/python/api/azure-cognitiveservices-vision-computervision/azure.cognitiveservices.vision.computervision.computervisionclient?view=azure-python-previous\n",
    "computervision_client = ComputerVisionClient(\n",
    "    endpoint, \n",
    "    CognitiveServicesCredentials(subscription_key)\n",
    ")"
   ]
  },
  {
   "cell_type": "markdown",
   "metadata": {},
   "source": [
    "> [!IMPORTANT]  \n",
    "> **'get_read_result'** method: This interface is used for getting OCR results of Read operation. The URL to this interface should be retrieved from 'Operation-Location' field returned from Read interface."
   ]
  },
  {
   "cell_type": "code",
   "execution_count": 19,
   "metadata": {},
   "outputs": [
    {
     "name": "stdout",
     "output_type": "stream",
     "text": [
      "RED HOT CHILI PEPPERS\n",
      "NEVERMIND\n",
      "U.S. Tour\n",
      "PEPA\n",
      "09/22/91 Atlanta, GA\n",
      "10/12/91 Chicago, IL\n",
      "09/23/21 Haston, MA\n",
      "10/1 4/91 Minneapolis, MN\n",
      "09/2:5/91 Providence, RI\n",
      "10/16/91 St. Louis, MO\n",
      "09/26/91 New Haven, CT\n",
      "10/17/91 Lawrence, KS\n",
      "09/27/91 Trenton, NJ\n",
      "10/19/91 Dallas, TX\n",
      "09/28/91 NYC.NY\n",
      "10/20/91 Heustea, TX\n",
      "09/30/91 Pittsburgh, PA\n",
      "10/21/91 Aussen. TX\n",
      "NIRVANA\n",
      "FRIDAY\n",
      "10/01/21 Philadelphia, PA\n",
      "10/02/91 Washington, DC\n",
      "10/23/91 San IHaga, CA\n",
      "10/25/91 Los Ageles, CA.\n",
      "DECEMBER 27 . 8PM\n",
      "10/04/91 Chapel HiILNC\n",
      "10/26/91 San Francisco, CA\n",
      "10/05/91 Athens, GA\n",
      "10/27/91 Bollywood,CA\n",
      "10/06/91 Atlanta,GA\n",
      "10/28/91 Portland, OR\n",
      "PEARL JAM\n",
      "LOS ANGELES SPORTS ARENA\n",
      "10/08/91 Memphis, TN\n",
      "10/29/91 Portland, OR\n",
      "10/09/91 Columbus, OH\n",
      "10/30/91 Vancouver, BC\n",
      "10/10/91 Cleveland, OF\n",
      "10/31/91 Seattle, WA\n",
      "ON SALE THIS SATURDAY SAM!\n",
      "10/11/91 Detroit, MI\n",
      "\n"
     ]
    }
   ],
   "source": [
    "# Get an image with text\n",
    "# read_image_url = \"https://learn.microsoft.com/azure/ai-services/computer-vision/media/quickstarts/presentation.png\"\n",
    "\n",
    "read_image_url=\"https://satc25.blob.core.windows.net/images-lab-tests/seattle-grunge-4.jpg\"\n",
    "\n",
    "# Call API with URL and raw response (allows you to get the operation location)\n",
    "# Python read method: https://learn.microsoft.com/en-us/python/api/azure-cognitiveservices-vision-computervision/azure.cognitiveservices.vision.computervision.computervisionclient?view=azure-python-previous#azure-cognitiveservices-vision-computervision-computervisionclient-read\n",
    "read_response = computervision_client.read(read_image_url,  raw=True)\n",
    "\n",
    "# Get the operation location (URL with an ID at the end) from the response\n",
    "read_operation_location = read_response.headers[\"Operation-Location\"]\n",
    "\n",
    "# Grab the ID from the URL\n",
    "operation_id = read_operation_location.split(\"/\")[-1]\n",
    "\n",
    "# Call the \"GET\" API and wait for it to retrieve the results \n",
    "# Python get_read_result method: https://learn.microsoft.com/en-us/python/api/azure-cognitiveservices-vision-computervision/azure.cognitiveservices.vision.computervision.computervisionclient?view=azure-python-previous#azure-cognitiveservices-vision-computervision-computervisionclient-get-read-result\n",
    "while True:\n",
    "    read_result = computervision_client.get_read_result(operation_id)\n",
    "    if read_result.status not in ['notStarted', 'running']:\n",
    "        break\n",
    "    time.sleep(1)\n",
    "\n",
    "# get_read_result method returns ClientRawResponse since raw=true\n",
    "\n",
    "# Print the detected text, line by line\n",
    "if read_result.status == OperationStatusCodes.succeeded:\n",
    "    for text_result in read_result.analyze_result.read_results:\n",
    "        for line in text_result.lines:\n",
    "            print(f\"{line.text}\")\n",
    "            #print(f\"    {line.bounding_box}\")\n",
    "print()"
   ]
  },
  {
   "cell_type": "markdown",
   "metadata": {},
   "source": [
    "## Group Discussion"
   ]
  },
  {
   "cell_type": "markdown",
   "metadata": {},
   "source": [
    "### Analyze another image"
   ]
  },
  {
   "cell_type": "markdown",
   "metadata": {},
   "source": [
    "Available images URL for testing:\n",
    "\n",
    "* [seattle-grunge-1](https://satc25.blob.core.windows.net/images-lab-tests/seattle-grunge-1.jpg)\n",
    "* [seattle-grunge-2](https://satc25.blob.core.windows.net/images-lab-tests/seattle-grunge-2.jpg)\n",
    "* [seattle-grunge-3](https://satc25.blob.core.windows.net/images-lab-tests/seattle-grunge-3.jpg)\n",
    "* [seattle-grunge-4](https://satc25.blob.core.windows.net/images-lab-tests/seattle-grunge-4.jpg)\n",
    "* [seattle-nirvana-1](https://satc25.blob.core.windows.net/images-lab-tests/seattle-nirvana-1.jpg)\n",
    "* [seattle-nirvana-2](https://satc25.blob.core.windows.net/images-lab-tests/seattle-nirvana-2.jpg)\n",
    "* [seattle-pikeplace-1](https://satc25.blob.core.windows.net/images-lab-tests/seattle-pikeplace-1.jpg)\n",
    "* [seattle-pikeplace-2](https://satc25.blob.core.windows.net/images-lab-tests/seattle-pikeplace-2.jpg)"
   ]
  },
  {
   "cell_type": "code",
   "execution_count": null,
   "metadata": {},
   "outputs": [],
   "source": [
    "# Get an image with text\n",
    "read_image_url = \"\" #Insert inside the quotes another image URL\n",
    "\n",
    "# Call API with URL and raw response (allows you to get the operation location)\n",
    "# Python read method: https://learn.microsoft.com/en-us/python/api/azure-cognitiveservices-vision-computervision/azure.cognitiveservices.vision.computervision.computervisionclient?view=azure-python-previous#azure-cognitiveservices-vision-computervision-computervisionclient-read\n",
    "read_response = computervision_client.read(read_image_url,  raw=True)\n",
    "\n",
    "# Get the operation location (URL with an ID at the end) from the response\n",
    "read_operation_location = read_response.headers[\"Operation-Location\"]\n",
    "\n",
    "# Grab the ID from the URL\n",
    "operation_id = read_operation_location.split(\"/\")[-1]\n",
    "\n",
    "# Call the \"GET\" API and wait for it to retrieve the results \n",
    "# Python get_read_result method: https://learn.microsoft.com/en-us/python/api/azure-cognitiveservices-vision-computervision/azure.cognitiveservices.vision.computervision.computervisionclient?view=azure-python-previous#azure-cognitiveservices-vision-computervision-computervisionclient-get-read-result\n",
    "while True:\n",
    "    read_result = computervision_client.get_read_result(operation_id)\n",
    "    if read_result.status not in ['notStarted', 'running']:\n",
    "        break\n",
    "    time.sleep(1)\n",
    "\n",
    "# get_read_result method returns ClientRawResponse since raw=true\n",
    "\n",
    "# Print the detected text, line by line\n",
    "if read_result.status == OperationStatusCodes.succeeded:\n",
    "    for text_result in read_result.analyze_result.read_results:\n",
    "        for line in text_result.lines:\n",
    "            print(line.text)\n",
    "            print(line.bounding_box)\n",
    "print()"
   ]
  },
  {
   "cell_type": "code",
   "execution_count": null,
   "metadata": {},
   "outputs": [],
   "source": [
    "# OPTIONAL - ADD AND TEST YOUR OWN CODE IN THIS CODE BOX\n"
   ]
  },
  {
   "cell_type": "code",
   "execution_count": null,
   "metadata": {},
   "outputs": [],
   "source": [
    "# OPTIONAL - ADD AND TEST YOUR OWN CODE IN THIS CODE BOX\n"
   ]
  },
  {
   "cell_type": "code",
   "execution_count": null,
   "metadata": {},
   "outputs": [],
   "source": [
    "# OPTIONAL - ADD AND TEST YOUR OWN CODE IN THIS CODE BOX\n"
   ]
  },
  {
   "cell_type": "markdown",
   "metadata": {},
   "source": [
    "### Try to answer the following questions\n",
    "\n",
    "* What output formats would you use in a real production application?\n",
    "* How would you analyze an image located in Azure Blob Storage?\n",
    "* In which Azure service would you host this code?"
   ]
  }
 ],
 "metadata": {
  "kernelspec": {
   "display_name": ".venv",
   "language": "python",
   "name": "python3"
  },
  "language_info": {
   "codemirror_mode": {
    "name": "ipython",
    "version": 3
   },
   "file_extension": ".py",
   "mimetype": "text/x-python",
   "name": "python",
   "nbconvert_exporter": "python",
   "pygments_lexer": "ipython3",
   "version": "3.10.11"
  }
 },
 "nbformat": 4,
 "nbformat_minor": 2
}
